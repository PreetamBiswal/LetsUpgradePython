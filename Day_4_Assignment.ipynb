{
  "nbformat": 4,
  "nbformat_minor": 0,
  "metadata": {
    "colab": {
      "name": "Day 4 Assignment.ipynb",
      "provenance": [],
      "authorship_tag": "ABX9TyOzMaDfF1ebek3Z+tBW2Ke6",
      "include_colab_link": true
    },
    "kernelspec": {
      "name": "python3",
      "display_name": "Python 3"
    }
  },
  "cells": [
    {
      "cell_type": "markdown",
      "metadata": {
        "id": "view-in-github",
        "colab_type": "text"
      },
      "source": [
        "<a href=\"https://colab.research.google.com/github/PreetamBiswal/LetsUpgradePython/blob/master/Day_4_Assignment.ipynb\" target=\"_parent\"><img src=\"https://colab.research.google.com/assets/colab-badge.svg\" alt=\"Open In Colab\"/></a>"
      ]
    },
    {
      "cell_type": "code",
      "metadata": {
        "id": "ugNwXIO3ytLO",
        "colab_type": "code",
        "colab": {
          "base_uri": "https://localhost:8080/",
          "height": 34
        },
        "outputId": "9b67b56b-7cda-440d-d7d5-54def8d35fa0"
      },
      "source": [
        "\n",
        "for num in range(1042000,702648265):\n",
        "    temp=num\n",
        "    length = len(str(num))\n",
        "    sum=0\n",
        "    while temp > 1:\n",
        "     rem = temp % 10\n",
        "     sum += rem ** length\n",
        "     temp //= 10\n",
        "    \n",
        "    if(num == sum): \n",
        "     print(num,\"is  an Armstrong number\")\n",
        "     break\n",
        "     \n",
        "  \n",
        " "
      ],
      "execution_count": 51,
      "outputs": [
        {
          "output_type": "stream",
          "text": [
            "4210818 is  an Armstrong number\n"
          ],
          "name": "stdout"
        }
      ]
    }
  ]
}